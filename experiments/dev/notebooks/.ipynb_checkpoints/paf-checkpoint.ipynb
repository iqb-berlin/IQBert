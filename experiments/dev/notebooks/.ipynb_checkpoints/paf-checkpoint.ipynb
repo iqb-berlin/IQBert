{
 "cells": [
  {
   "cell_type": "markdown",
   "id": "c1333450-24f3-4f8b-b1ce-239b78e02db3",
   "metadata": {},
   "source": [
    "# Pafs Neuronales Netzwerk"
   ]
  },
  {
   "cell_type": "code",
   "execution_count": 2,
   "id": "0f763c6e-1e3d-4e3c-bb27-6f410c71d9ea",
   "metadata": {},
   "outputs": [],
   "source": [
    "import torch\n",
    "from torch import nn"
   ]
  },
  {
   "cell_type": "code",
   "execution_count": 3,
   "id": "beb538d7-bee0-4ea6-bc46-f90c945315ff",
   "metadata": {},
   "outputs": [],
   "source": [
    "device = 'cpu'"
   ]
  },
  {
   "cell_type": "code",
   "execution_count": null,
   "id": "006dd41c-327a-4d2c-af4d-5f5866093e6a",
   "metadata": {},
   "outputs": [],
   "source": [
    "f = nn.Sequential(\n",
    "    nn.Linear(28*28, 512),\n",
    ")\n",
    "f."
   ]
  }
 ],
 "metadata": {
  "kernelspec": {
   "display_name": "Python 3 (ipykernel)",
   "language": "python",
   "name": "python3"
  },
  "language_info": {
   "codemirror_mode": {
    "name": "ipython",
    "version": 3
   },
   "file_extension": ".py",
   "mimetype": "text/x-python",
   "name": "python",
   "nbconvert_exporter": "python",
   "pygments_lexer": "ipython3",
   "version": "3.11.2"
  }
 },
 "nbformat": 4,
 "nbformat_minor": 5
}
